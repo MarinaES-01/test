{
 "cells": [
  {
   "cell_type": "markdown",
   "id": "6d80dfd1",
   "metadata": {},
   "source": [
    "# Use Case for Hackathon"
   ]
  },
  {
   "cell_type": "markdown",
   "id": "1004b05d",
   "metadata": {},
   "source": [
    "### We get a dataset, we have to understand it and get value from it"
   ]
  },
  {
   "cell_type": "markdown",
   "id": "bccda086",
   "metadata": {},
   "source": [
    "A school wants to hire us to see whether we are able to understand some problems they believe they are facing. \n",
    "\n",
    "Something is going wrong with the performance of the students but they are not able to figure it out and give reasons to it. \n",
    "\n",
    "Some parents are very disappointed of the grades of their kids and have complaint continiously to the board of the school. \n",
    "\n",
    "Our company is low on budget and we accept the deal even if it is risky, stressful and the money won't cover much of our runaway either but we take what we get. "
   ]
  },
  {
   "cell_type": "markdown",
   "id": "1a09360f",
   "metadata": {},
   "source": [
    "## Let's get to it and try to help the School!"
   ]
  },
  {
   "cell_type": "markdown",
   "id": "1f0fd8dc",
   "metadata": {},
   "source": [
    "### Import dataset and do the first general analysis"
   ]
  },
  {
   "cell_type": "code",
   "execution_count": 32,
   "id": "03fcd6ea",
   "metadata": {},
   "outputs": [],
   "source": [
    "import pandas as pd"
   ]
  },
  {
   "cell_type": "code",
   "execution_count": 33,
   "id": "e61e9d5d",
   "metadata": {},
   "outputs": [
    {
     "data": {
      "text/html": [
       "<div>\n",
       "<style scoped>\n",
       "    .dataframe tbody tr th:only-of-type {\n",
       "        vertical-align: middle;\n",
       "    }\n",
       "\n",
       "    .dataframe tbody tr th {\n",
       "        vertical-align: top;\n",
       "    }\n",
       "\n",
       "    .dataframe thead th {\n",
       "        text-align: right;\n",
       "    }\n",
       "</style>\n",
       "<table border=\"1\" class=\"dataframe\">\n",
       "  <thead>\n",
       "    <tr style=\"text-align: right;\">\n",
       "      <th></th>\n",
       "      <th>gender</th>\n",
       "      <th>race/ethnicity</th>\n",
       "      <th>parental level of education</th>\n",
       "      <th>lunch</th>\n",
       "      <th>test preparation course</th>\n",
       "      <th>math score</th>\n",
       "      <th>reading score</th>\n",
       "      <th>writing score</th>\n",
       "      <th>id_student</th>\n",
       "      <th>address</th>\n",
       "      <th>Year</th>\n",
       "      <th>Age</th>\n",
       "    </tr>\n",
       "  </thead>\n",
       "  <tbody>\n",
       "    <tr>\n",
       "      <th>0</th>\n",
       "      <td>Male</td>\n",
       "      <td>group A</td>\n",
       "      <td>high school</td>\n",
       "      <td>standard</td>\n",
       "      <td>completed</td>\n",
       "      <td>67</td>\n",
       "      <td>67</td>\n",
       "      <td>63</td>\n",
       "      <td>1000</td>\n",
       "      <td>NaN</td>\n",
       "      <td>2023</td>\n",
       "      <td>14.0</td>\n",
       "    </tr>\n",
       "    <tr>\n",
       "      <th>1</th>\n",
       "      <td>Female</td>\n",
       "      <td>group D</td>\n",
       "      <td>some high school</td>\n",
       "      <td>free/reduced</td>\n",
       "      <td>none</td>\n",
       "      <td>40</td>\n",
       "      <td>29</td>\n",
       "      <td>55</td>\n",
       "      <td>1001</td>\n",
       "      <td>NaN</td>\n",
       "      <td>2023</td>\n",
       "      <td>17.0</td>\n",
       "    </tr>\n",
       "    <tr>\n",
       "      <th>2</th>\n",
       "      <td>Male</td>\n",
       "      <td>group E</td>\n",
       "      <td>some college</td>\n",
       "      <td>free/reduced</td>\n",
       "      <td>none</td>\n",
       "      <td>59</td>\n",
       "      <td>60</td>\n",
       "      <td>50</td>\n",
       "      <td>1002</td>\n",
       "      <td>NaN</td>\n",
       "      <td>2023</td>\n",
       "      <td>14.0</td>\n",
       "    </tr>\n",
       "    <tr>\n",
       "      <th>3</th>\n",
       "      <td>Male</td>\n",
       "      <td>group B</td>\n",
       "      <td>high school</td>\n",
       "      <td>standard</td>\n",
       "      <td>none</td>\n",
       "      <td>77</td>\n",
       "      <td>78</td>\n",
       "      <td>68</td>\n",
       "      <td>1003</td>\n",
       "      <td>NaN</td>\n",
       "      <td>2023</td>\n",
       "      <td>17.0</td>\n",
       "    </tr>\n",
       "    <tr>\n",
       "      <th>4</th>\n",
       "      <td>Male</td>\n",
       "      <td>group E</td>\n",
       "      <td>associate's degree</td>\n",
       "      <td>standard</td>\n",
       "      <td>completed</td>\n",
       "      <td>78</td>\n",
       "      <td>73</td>\n",
       "      <td>68</td>\n",
       "      <td>1004</td>\n",
       "      <td>NaN</td>\n",
       "      <td>2023</td>\n",
       "      <td>16.0</td>\n",
       "    </tr>\n",
       "  </tbody>\n",
       "</table>\n",
       "</div>"
      ],
      "text/plain": [
       "   gender race/ethnicity parental level of education         lunch  \\\n",
       "0    Male        group A                 high school      standard   \n",
       "1  Female        group D            some high school  free/reduced   \n",
       "2    Male        group E                some college  free/reduced   \n",
       "3    Male        group B                 high school      standard   \n",
       "4    Male        group E          associate's degree      standard   \n",
       "\n",
       "  test preparation course  math score  reading score  writing score  \\\n",
       "0               completed          67             67             63   \n",
       "1                    none          40             29             55   \n",
       "2                    none          59             60             50   \n",
       "3                    none          77             78             68   \n",
       "4               completed          78             73             68   \n",
       "\n",
       "   id_student  address  Year   Age  \n",
       "0        1000      NaN  2023  14.0  \n",
       "1        1001      NaN  2023  17.0  \n",
       "2        1002      NaN  2023  14.0  \n",
       "3        1003      NaN  2023  17.0  \n",
       "4        1004      NaN  2023  16.0  "
      ]
     },
     "execution_count": 33,
     "metadata": {},
     "output_type": "execute_result"
    }
   ],
   "source": [
    "df = pd.read_csv(r'C:\\Users\\marin\\Downloads\\exams_mod.csv')\n",
    "df.head()"
   ]
  },
  {
   "cell_type": "code",
   "execution_count": 34,
   "id": "5f27bf91",
   "metadata": {},
   "outputs": [
    {
     "data": {
      "text/html": [
       "<div>\n",
       "<style scoped>\n",
       "    .dataframe tbody tr th:only-of-type {\n",
       "        vertical-align: middle;\n",
       "    }\n",
       "\n",
       "    .dataframe tbody tr th {\n",
       "        vertical-align: top;\n",
       "    }\n",
       "\n",
       "    .dataframe thead th {\n",
       "        text-align: right;\n",
       "    }\n",
       "</style>\n",
       "<table border=\"1\" class=\"dataframe\">\n",
       "  <thead>\n",
       "    <tr style=\"text-align: right;\">\n",
       "      <th></th>\n",
       "      <th>math score</th>\n",
       "      <th>reading score</th>\n",
       "      <th>writing score</th>\n",
       "      <th>id_student</th>\n",
       "      <th>address</th>\n",
       "      <th>Year</th>\n",
       "      <th>Age</th>\n",
       "    </tr>\n",
       "  </thead>\n",
       "  <tbody>\n",
       "    <tr>\n",
       "      <th>count</th>\n",
       "      <td>1010.000000</td>\n",
       "      <td>1010.000000</td>\n",
       "      <td>1010.000000</td>\n",
       "      <td>1010.000000</td>\n",
       "      <td>0.0</td>\n",
       "      <td>1010.000000</td>\n",
       "      <td>943.000000</td>\n",
       "    </tr>\n",
       "    <tr>\n",
       "      <th>mean</th>\n",
       "      <td>66.420792</td>\n",
       "      <td>64.930693</td>\n",
       "      <td>70.289109</td>\n",
       "      <td>1494.599010</td>\n",
       "      <td>NaN</td>\n",
       "      <td>2021.104950</td>\n",
       "      <td>15.483563</td>\n",
       "    </tr>\n",
       "    <tr>\n",
       "      <th>std</th>\n",
       "      <td>15.481187</td>\n",
       "      <td>18.990769</td>\n",
       "      <td>19.125831</td>\n",
       "      <td>291.537945</td>\n",
       "      <td>NaN</td>\n",
       "      <td>7.681396</td>\n",
       "      <td>1.151707</td>\n",
       "    </tr>\n",
       "    <tr>\n",
       "      <th>min</th>\n",
       "      <td>13.000000</td>\n",
       "      <td>15.000000</td>\n",
       "      <td>23.000000</td>\n",
       "      <td>1000.000000</td>\n",
       "      <td>NaN</td>\n",
       "      <td>1990.000000</td>\n",
       "      <td>14.000000</td>\n",
       "    </tr>\n",
       "    <tr>\n",
       "      <th>25%</th>\n",
       "      <td>56.000000</td>\n",
       "      <td>54.000000</td>\n",
       "      <td>58.000000</td>\n",
       "      <td>1242.250000</td>\n",
       "      <td>NaN</td>\n",
       "      <td>2023.000000</td>\n",
       "      <td>14.000000</td>\n",
       "    </tr>\n",
       "    <tr>\n",
       "      <th>50%</th>\n",
       "      <td>66.000000</td>\n",
       "      <td>68.000000</td>\n",
       "      <td>68.000000</td>\n",
       "      <td>1494.500000</td>\n",
       "      <td>NaN</td>\n",
       "      <td>2023.000000</td>\n",
       "      <td>16.000000</td>\n",
       "    </tr>\n",
       "    <tr>\n",
       "      <th>75%</th>\n",
       "      <td>77.000000</td>\n",
       "      <td>78.000000</td>\n",
       "      <td>79.000000</td>\n",
       "      <td>1746.750000</td>\n",
       "      <td>NaN</td>\n",
       "      <td>2023.000000</td>\n",
       "      <td>17.000000</td>\n",
       "    </tr>\n",
       "    <tr>\n",
       "      <th>max</th>\n",
       "      <td>120.000000</td>\n",
       "      <td>100.000000</td>\n",
       "      <td>100.000000</td>\n",
       "      <td>1999.000000</td>\n",
       "      <td>NaN</td>\n",
       "      <td>2023.000000</td>\n",
       "      <td>17.000000</td>\n",
       "    </tr>\n",
       "  </tbody>\n",
       "</table>\n",
       "</div>"
      ],
      "text/plain": [
       "        math score  reading score  writing score   id_student  address  \\\n",
       "count  1010.000000    1010.000000    1010.000000  1010.000000      0.0   \n",
       "mean     66.420792      64.930693      70.289109  1494.599010      NaN   \n",
       "std      15.481187      18.990769      19.125831   291.537945      NaN   \n",
       "min      13.000000      15.000000      23.000000  1000.000000      NaN   \n",
       "25%      56.000000      54.000000      58.000000  1242.250000      NaN   \n",
       "50%      66.000000      68.000000      68.000000  1494.500000      NaN   \n",
       "75%      77.000000      78.000000      79.000000  1746.750000      NaN   \n",
       "max     120.000000     100.000000     100.000000  1999.000000      NaN   \n",
       "\n",
       "              Year         Age  \n",
       "count  1010.000000  943.000000  \n",
       "mean   2021.104950   15.483563  \n",
       "std       7.681396    1.151707  \n",
       "min    1990.000000   14.000000  \n",
       "25%    2023.000000   14.000000  \n",
       "50%    2023.000000   16.000000  \n",
       "75%    2023.000000   17.000000  \n",
       "max    2023.000000   17.000000  "
      ]
     },
     "execution_count": 34,
     "metadata": {},
     "output_type": "execute_result"
    }
   ],
   "source": [
    "df.describe()"
   ]
  },
  {
   "cell_type": "code",
   "execution_count": 35,
   "id": "b6533f5c",
   "metadata": {},
   "outputs": [],
   "source": [
    "#aaddress, math score, id student, year"
   ]
  },
  {
   "cell_type": "code",
   "execution_count": 36,
   "id": "ebff2dc9",
   "metadata": {},
   "outputs": [
    {
     "name": "stdout",
     "output_type": "stream",
     "text": [
      "<class 'pandas.core.frame.DataFrame'>\n",
      "RangeIndex: 1010 entries, 0 to 1009\n",
      "Data columns (total 12 columns):\n",
      " #   Column                       Non-Null Count  Dtype  \n",
      "---  ------                       --------------  -----  \n",
      " 0   gender                       1010 non-null   object \n",
      " 1   race/ethnicity               1010 non-null   object \n",
      " 2   parental level of education  1010 non-null   object \n",
      " 3   lunch                        1010 non-null   object \n",
      " 4   test preparation course      1010 non-null   object \n",
      " 5   math score                   1010 non-null   int64  \n",
      " 6   reading score                1010 non-null   int64  \n",
      " 7   writing score                1010 non-null   int64  \n",
      " 8   id_student                   1010 non-null   int64  \n",
      " 9   address                      0 non-null      float64\n",
      " 10  Year                         1010 non-null   int64  \n",
      " 11  Age                          943 non-null    float64\n",
      "dtypes: float64(2), int64(5), object(5)\n",
      "memory usage: 94.8+ KB\n"
     ]
    }
   ],
   "source": [
    "df.info()"
   ]
  },
  {
   "cell_type": "code",
   "execution_count": 37,
   "id": "e715adfa",
   "metadata": {},
   "outputs": [
    {
     "data": {
      "text/plain": [
       "(1010, 12)"
      ]
     },
     "execution_count": 37,
     "metadata": {},
     "output_type": "execute_result"
    }
   ],
   "source": [
    "df.shape"
   ]
  },
  {
   "cell_type": "code",
   "execution_count": 38,
   "id": "d06e4bf5",
   "metadata": {},
   "outputs": [
    {
     "ename": "NameError",
     "evalue": "name 'Index' is not defined",
     "output_type": "error",
     "traceback": [
      "\u001b[1;31m---------------------------------------------------------------------------\u001b[0m",
      "\u001b[1;31mNameError\u001b[0m                                 Traceback (most recent call last)",
      "Cell \u001b[1;32mIn[38], line 1\u001b[0m\n\u001b[1;32m----> 1\u001b[0m Index[\u001b[38;5;124m\"\u001b[39m\u001b[38;5;124mgender\u001b[39m\u001b[38;5;124m\"\u001b[39m, \u001b[38;5;124m\"\u001b[39m\u001b[38;5;124mrace/ethnicity\u001b[39m\u001b[38;5;124m\"\u001b[39m,]\n",
      "\u001b[1;31mNameError\u001b[0m: name 'Index' is not defined"
     ]
    }
   ],
   "source": [
    "Index[\"gender\", \"race/ethnicity\",]"
   ]
  },
  {
   "cell_type": "markdown",
   "id": "2bcdbe8c",
   "metadata": {},
   "source": [
    "## What information do we get from this? "
   ]
  },
  {
   "cell_type": "markdown",
   "id": "e47a6d7e",
   "metadata": {},
   "source": [
    "1. Why is student id int? If it is a string. It is not a number\n",
    "\n",
    "2. We need to inspect all the object columns and check the value counts. What do we discover when we do it? \n",
    "\n",
    "3. The distribution of the year column is a bit odd. We need to look more into it. \n",
    "\n",
    "4. Do we have duplicates in the dataset?\n",
    "\n",
    "5. All rows of the column address are missing, maybe we can just delete it\n",
    "\n",
    "6. The age column has 77 missing values. What should we do with it? \n",
    "\n",
    "7. There seems to be values for the math scores higher than 120. Are those outliers? "
   ]
  },
  {
   "cell_type": "markdown",
   "id": "14188f36",
   "metadata": {},
   "source": [
    "### 1. Change type of student id  "
   ]
  },
  {
   "cell_type": "code",
   "execution_count": null,
   "id": "f027eea9",
   "metadata": {},
   "outputs": [],
   "source": [
    "df[\"id.student\"] = df[\"id_student\"].astype(str)"
   ]
  },
  {
   "cell_type": "code",
   "execution_count": null,
   "id": "e5bcb3f3",
   "metadata": {},
   "outputs": [
    {
     "data": {
      "text/plain": [
       "gender                          object\n",
       "race/ethnicity                  object\n",
       "parental level of education     object\n",
       "lunch                           object\n",
       "test preparation course         object\n",
       "math score                       int64\n",
       "reading score                    int64\n",
       "writing score                    int64\n",
       "id_student                       int64\n",
       "address                        float64\n",
       "Year                             int64\n",
       "Age                            float64\n",
       "id.student                      object\n",
       "dtype: object"
      ]
     },
     "execution_count": 11,
     "metadata": {},
     "output_type": "execute_result"
    }
   ],
   "source": [
    "df.dtypes"
   ]
  },
  {
   "cell_type": "markdown",
   "id": "4aa63224",
   "metadata": {},
   "source": [
    "### 2. Explore the columns that are objects (string)"
   ]
  },
  {
   "cell_type": "code",
   "execution_count": null,
   "id": "b9ad15fa",
   "metadata": {},
   "outputs": [
    {
     "name": "stdout",
     "output_type": "stream",
     "text": [
      "Index(['gender', 'race/ethnicity', 'parental level of education', 'lunch',\n",
      "       'test preparation course'],\n",
      "      dtype='object')\n"
     ]
    }
   ],
   "source": [
    "object_columns = df_cleaned.select_dtypes(include=[\"object\"]).columns\n",
    "\n",
    "print(object_columns)"
   ]
  },
  {
   "cell_type": "code",
   "execution_count": null,
   "id": "7b9bb9f3",
   "metadata": {},
   "outputs": [
    {
     "data": {
      "text/plain": [
       "gender\n",
       "MALE      524\n",
       "FEMALE    486\n",
       "Name: count, dtype: int64"
      ]
     },
     "execution_count": 14,
     "metadata": {},
     "output_type": "execute_result"
    }
   ],
   "source": [
    "df[\"gender\"] = df['gender'].str.upper()\n",
    "df['gender'].value_counts()"
   ]
  },
  {
   "cell_type": "markdown",
   "id": "993c9dd2",
   "metadata": {},
   "source": [
    "### 3. Seems that the column gender has a lot of versions we are going to have to fix this"
   ]
  },
  {
   "cell_type": "code",
   "execution_count": 52,
   "id": "3a99e617",
   "metadata": {},
   "outputs": [
    {
     "data": {
      "text/plain": [
       "array(['Male', 'Female'], dtype=object)"
      ]
     },
     "execution_count": 52,
     "metadata": {},
     "output_type": "execute_result"
    }
   ],
   "source": [
    "# Primero unificamos los valores para que solo aparezca Male y Female\n",
    "# Normalizar los valores de la columna \"gender\" para que solo haya \"Female\" y \"Male\"\n",
    "df_cleaned[\"gender\"] = df_cleaned[\"gender\"].str.capitalize()\n",
    "\n",
    "# Verificar los valores únicos después del cambio\n",
    "df_cleaned[\"gender\"].unique() "
   ]
  },
  {
   "cell_type": "markdown",
   "id": "4c7a45ad",
   "metadata": {},
   "source": [
    "### 4. What may be happening with the year? "
   ]
  },
  {
   "cell_type": "code",
   "execution_count": null,
   "id": "a27b2678",
   "metadata": {},
   "outputs": [
    {
     "data": {
      "text/plain": [
       "Year\n",
       "2023    942\n",
       "1990     58\n",
       "Name: count, dtype: int64"
      ]
     },
     "execution_count": 23,
     "metadata": {},
     "output_type": "execute_result"
    }
   ],
   "source": [
    "df['Year'].value_counts()"
   ]
  },
  {
   "cell_type": "code",
   "execution_count": null,
   "id": "3e9ced95",
   "metadata": {},
   "outputs": [
    {
     "data": {
      "text/plain": [
       "Year\n",
       "2023    1000\n",
       "Name: count, dtype: int64"
      ]
     },
     "execution_count": 24,
     "metadata": {},
     "output_type": "execute_result"
    }
   ],
   "source": [
    "#assumim que s'han d'eliminar els valors 1990 perque es un error.\n",
    "df['Year'] = df['Year'].replace(1990,2023)\n",
    "df['Year'].value_counts()"
   ]
  },
  {
   "cell_type": "markdown",
   "id": "ab90e1eb",
   "metadata": {},
   "source": [
    "### 5. Do we have any duplicates? "
   ]
  },
  {
   "cell_type": "code",
   "execution_count": null,
   "id": "9bcdcad8",
   "metadata": {},
   "outputs": [
    {
     "data": {
      "text/plain": [
       "(1010, 13)"
      ]
     },
     "execution_count": 15,
     "metadata": {},
     "output_type": "execute_result"
    }
   ],
   "source": [
    "df.shape"
   ]
  },
  {
   "cell_type": "code",
   "execution_count": null,
   "id": "e128b7fe",
   "metadata": {},
   "outputs": [],
   "source": [
    "df=df.drop_duplicates()"
   ]
  },
  {
   "cell_type": "code",
   "execution_count": null,
   "id": "ba5df2da",
   "metadata": {},
   "outputs": [
    {
     "data": {
      "text/plain": [
       "(1000, 13)"
      ]
     },
     "execution_count": 17,
     "metadata": {},
     "output_type": "execute_result"
    }
   ],
   "source": [
    "df.shape"
   ]
  },
  {
   "cell_type": "code",
   "execution_count": null,
   "id": "113c054e",
   "metadata": {},
   "outputs": [],
   "source": [
    "#ha eliminat 10 duplicats."
   ]
  },
  {
   "cell_type": "markdown",
   "id": "95b40332",
   "metadata": {},
   "source": [
    "### 6.1. Missing values: Remember the column address"
   ]
  },
  {
   "cell_type": "code",
   "execution_count": null,
   "id": "5064bc92",
   "metadata": {},
   "outputs": [
    {
     "data": {
      "text/plain": [
       "gender                            0\n",
       "race/ethnicity                    0\n",
       "parental level of education       0\n",
       "lunch                             0\n",
       "test preparation course           0\n",
       "math score                        0\n",
       "reading score                     0\n",
       "writing score                     0\n",
       "id_student                        0\n",
       "address                        1000\n",
       "Year                              0\n",
       "Age                              67\n",
       "id.student                        0\n",
       "dtype: int64"
      ]
     },
     "execution_count": 18,
     "metadata": {},
     "output_type": "execute_result"
    }
   ],
   "source": [
    "df.isna().sum()"
   ]
  },
  {
   "cell_type": "code",
   "execution_count": 53,
   "id": "f9431159",
   "metadata": {},
   "outputs": [],
   "source": [
    "df = df.drop('address',axis=1)\n",
    "if 'address' in df.columns:\n",
    "    print('address no sirve para nada')\n",
    "           "
   ]
  },
  {
   "cell_type": "markdown",
   "id": "99658998",
   "metadata": {},
   "source": [
    "### 6.2. What about the missing values of the column Age? "
   ]
  },
  {
   "cell_type": "code",
   "execution_count": null,
   "id": "be192a29",
   "metadata": {},
   "outputs": [
    {
     "name": "stdout",
     "output_type": "stream",
     "text": [
      "0\n"
     ]
    }
   ],
   "source": [
    "# Reemplazamos los campos vacíos por la media del resto de valores\n",
    "mean_Age = df[\"Age\"].mean()\n",
    "\n",
    "# Rellenar los valores vacíos con la media\n",
    "df[\"Age\"].fillna(mean_Age, inplace=True)\n",
    "\n",
    "# Verificar si hay valores vacíos después del cambio\n",
    "print(df[\"Age\"].isnull().sum())"
   ]
  },
  {
   "cell_type": "code",
   "execution_count": null,
   "id": "9e38e5c2",
   "metadata": {},
   "outputs": [
    {
     "name": "stdout",
     "output_type": "stream",
     "text": [
      "0     14.000000\n",
      "1     17.000000\n",
      "2     14.000000\n",
      "3     17.000000\n",
      "4     16.000000\n",
      "5     16.000000\n",
      "6     14.000000\n",
      "7     17.000000\n",
      "8     15.000000\n",
      "9     16.000000\n",
      "10    15.000000\n",
      "11    16.000000\n",
      "12    15.483563\n",
      "13    17.000000\n",
      "14    15.000000\n",
      "15    15.000000\n",
      "16    15.000000\n",
      "17    17.000000\n",
      "18    17.000000\n",
      "19    15.000000\n",
      "20    16.000000\n",
      "21    15.483563\n",
      "22    15.000000\n",
      "23    15.000000\n",
      "24    15.483563\n",
      "25    16.000000\n",
      "Name: Age, dtype: float64\n"
     ]
    }
   ],
   "source": [
    "#Imprimimos los primeros 26 valores para comprobarlo\n",
    "print(df[\"Age\"].head(26))"
   ]
  },
  {
   "cell_type": "markdown",
   "id": "0e126985",
   "metadata": {},
   "source": [
    "### 7. What is going on with the math scores?"
   ]
  },
  {
   "cell_type": "code",
   "execution_count": null,
   "id": "051481fe",
   "metadata": {},
   "outputs": [
    {
     "data": {
      "text/html": [
       "<div>\n",
       "<style scoped>\n",
       "    .dataframe tbody tr th:only-of-type {\n",
       "        vertical-align: middle;\n",
       "    }\n",
       "\n",
       "    .dataframe tbody tr th {\n",
       "        vertical-align: top;\n",
       "    }\n",
       "\n",
       "    .dataframe thead th {\n",
       "        text-align: right;\n",
       "    }\n",
       "</style>\n",
       "<table border=\"1\" class=\"dataframe\">\n",
       "  <thead>\n",
       "    <tr style=\"text-align: right;\">\n",
       "      <th></th>\n",
       "      <th>gender</th>\n",
       "      <th>race/ethnicity</th>\n",
       "      <th>parental level of education</th>\n",
       "      <th>lunch</th>\n",
       "      <th>test preparation course</th>\n",
       "      <th>math score</th>\n",
       "      <th>reading score</th>\n",
       "      <th>writing score</th>\n",
       "      <th>id_student</th>\n",
       "      <th>Year</th>\n",
       "      <th>Age</th>\n",
       "      <th>id.student</th>\n",
       "    </tr>\n",
       "  </thead>\n",
       "  <tbody>\n",
       "    <tr>\n",
       "      <th>11</th>\n",
       "      <td>FEMALE</td>\n",
       "      <td>group D</td>\n",
       "      <td>high school</td>\n",
       "      <td>standard</td>\n",
       "      <td>completed</td>\n",
       "      <td>120</td>\n",
       "      <td>87</td>\n",
       "      <td>100</td>\n",
       "      <td>1011</td>\n",
       "      <td>2023</td>\n",
       "      <td>16.0</td>\n",
       "      <td>1011</td>\n",
       "    </tr>\n",
       "  </tbody>\n",
       "</table>\n",
       "</div>"
      ],
      "text/plain": [
       "    gender race/ethnicity parental level of education     lunch  \\\n",
       "11  FEMALE        group D                 high school  standard   \n",
       "\n",
       "   test preparation course  math score  reading score  writing score  \\\n",
       "11               completed         120             87            100   \n",
       "\n",
       "    id_student  Year   Age id.student  \n",
       "11        1011  2023  16.0       1011  "
      ]
     },
     "execution_count": 26,
     "metadata": {},
     "output_type": "execute_result"
    }
   ],
   "source": [
    "#cuantos hay por encima de 100\n",
    "df[df['math score']>100]"
   ]
  },
  {
   "cell_type": "code",
   "execution_count": 61,
   "id": "1bbceccb",
   "metadata": {},
   "outputs": [
    {
     "name": "stdout",
     "output_type": "stream",
     "text": [
      "[ 67  40  59  77  78  63  62  93  47  99 100  74  81  69  58  54  23  39\n",
      "  83  71  44  46  51  53  33  87  65  79  68  57  98  60  64  52  36  56\n",
      "  88  42  76  49  72  31  32  97  94  95  45  75  66  70  82  92  30  41\n",
      "  43  55  73  48  86  80  84  50  89  91  85  61  35  90  96  13  38  28\n",
      "  26  37  29  34  25]\n"
     ]
    }
   ],
   "source": [
    "# Reemplazamos el valor 120 por 100 en la columna \"math score\"\n",
    "df[\"math score\"] = df[\"math score\"].replace(120, 100)\n",
    "\n",
    "# Verificar que el cambio se haya realizado\n",
    "print(df[\"math score\"].unique())"
   ]
  },
  {
   "cell_type": "markdown",
   "id": "d46624f0",
   "metadata": {},
   "source": [
    "## Do some initial plots? EDA"
   ]
  },
  {
   "cell_type": "code",
   "execution_count": null,
   "id": "cc918ca9",
   "metadata": {},
   "outputs": [
    {
     "name": "stdout",
     "output_type": "stream",
     "text": [
      "math score\n",
      "63    36\n",
      "77    31\n",
      "71    30\n",
      "74    28\n",
      "57    27\n",
      "      ..\n",
      "30     2\n",
      "34     1\n",
      "23     1\n",
      "29     1\n",
      "25     1\n",
      "Name: count, Length: 77, dtype: int64\n"
     ]
    },
    {
     "name": "stderr",
     "output_type": "stream",
     "text": [
      "c:\\Users\\marin\\anaconda3\\Lib\\site-packages\\seaborn\\_oldcore.py:1119: FutureWarning: use_inf_as_na option is deprecated and will be removed in a future version. Convert inf values to NaN before operating instead.\n",
      "  with pd.option_context('mode.use_inf_as_na', True):\n"
     ]
    },
    {
     "data": {
      "text/plain": [
       "<matplotlib.legend.Legend at 0x1f46cb32690>"
      ]
     },
     "execution_count": 67,
     "metadata": {},
     "output_type": "execute_result"
    },
    {
     "data": {
      "image/png": "[encoded data removed]",
      "text/plain": [
       "<Figure size 1000x500 with 1 Axes>"
      ]
     },
     "metadata": {},
     "output_type": "display_data"
    }
   ],
   "source": [
    "# Volvemos a calcular la media de Math score substituyendo el valor 120 por 100 (ausmimos que se trata de un buen estudiante y que las otras dos notas son buenas) e imprimimos un gráfico con los valores y la media\n",
    "\n",
    "df[\"math score\"] = df[\"math score\"].replace(120, 100)\n",
    "\n",
    "# Verificar si el valor 120 sigue presente\n",
    "print(df[\"math score\"].value_counts())\n",
    "\n",
    "# Volver a crear el histograma para \"math score\" después del reemplazo\n",
    "plt.figure(figsize=(10, 5))\n",
    "sns.histplot(df[\"math score\"], bins=10, kde=False, color=\"skyblue\")\n",
    "\n",
    "# Calcular la media actualizada\n",
    "mean_math_updated = df[\"math score\"].mean()\n",
    "\n",
    "# Agregar una línea vertical con la media\n",
    "plt.axvline(mean_math_updated, color=\"red\", linestyle=\"dashed\", label=f\"Media: {mean_math_updated:.2f}\")\n",
    "\n",
    "# Etiquetas y título\n",
    "plt.xlabel(\"Math Score\")\n",
    "plt.ylabel(\"Frecuencia\")\n",
    "plt.title(\"Distribución de 'Math Score' (Actualizada)\")\n",
    "plt.legend()"
   ]
  },
  {
   "cell_type": "code",
   "execution_count": null,
   "id": "dd641e1e",
   "metadata": {},
   "outputs": [
    {
     "data": {
      "image/png": "[encoded data removed]",
      "text/plain": [
       "<Figure size 1200x500 with 2 Axes>"
      ]
     },
     "metadata": {},
     "output_type": "display_data"
    }
   ],
   "source": [
    "# Hacemos lo mismo con las otras dos notas del listado\n",
    "reading_mean = np.mean(df_cleaned[\"reading score\"])\n",
    "writing_mean = np.mean(df_cleaned[\"writing score\"])\n",
    "\n",
    "# Crear una figura con dos subgráficos\n",
    "fig, axes = plt.subplots(1, 2, figsize=(12, 5))\n",
    "\n",
    "# Histograma para lectura con media\n",
    "axes[0].hist(df_cleaned[\"reading score\"], bins=10, color=\"seagreen\", edgecolor=\"black\", alpha=0.7, label=\"Distribution\")\n",
    "axes[0].axvline(reading_mean, color=\"red\", linestyle=\"dashed\", linewidth=2, label=f\"Mean: {reading_mean:.2f}\")\n",
    "axes[0].set_xlabel(\"Reading score\")\n",
    "axes[0].set_ylabel(\"Frecuency\")\n",
    "axes[0].set_title(\"Distribution of Reading Scores\")\n",
    "axes[0].legend()\n",
    "axes[0].grid(axis=\"y\", linestyle=\"--\", alpha=0.7)\n",
    "\n",
    "# Histograma para escritura con media\n",
    "axes[1].hist(df_cleaned[\"writing score\"], bins=10, color=\"darkorange\", edgecolor=\"black\", alpha=0.7, label=\"Distribución\")\n",
    "axes[1].axvline(writing_mean, color=\"red\", linestyle=\"dashed\", linewidth=2, label=f\"Mean: {writing_mean:.2f}\")\n",
    "axes[1].set_xlabel(\"Writing score\")\n",
    "axes[1].set_ylabel(\"Frecuency\")\n",
    "axes[1].set_title(\"Distribution of writing score\")\n",
    "axes[1].legend()\n",
    "axes[1].grid(axis=\"y\", linestyle=\"--\", alpha=0.7)\n",
    "\n",
    "# Ajustar el diseño\n",
    "plt.tight_layout()\n",
    "plt.show()"
   ]
  },
  {
   "cell_type": "markdown",
   "id": "7a7765e3",
   "metadata": {},
   "source": [
    "### What do you find interesting?  "
   ]
  },
  {
   "cell_type": "markdown",
   "id": "b725d6ce",
   "metadata": {},
   "source": [
    "- To me the reading score is really intriguing --> We need to really work on understanding what is going on\n",
    "- The writing score is also characteristic but in principle I am not that worried about it. "
   ]
  },
  {
   "cell_type": "markdown",
   "id": "aa217d66",
   "metadata": {},
   "source": [
    "#### We know for a fact that the id_student and the year will not be relevant for any analysis as they are the same value for the whole dataset\n",
    "\n",
    "Maybe we can delete them from now on"
   ]
  },
  {
   "cell_type": "code",
   "execution_count": 28,
   "id": "e253604e",
   "metadata": {},
   "outputs": [
    {
     "data": {
      "text/html": [
       "<div>\n",
       "<style scoped>\n",
       "    .dataframe tbody tr th:only-of-type {\n",
       "        vertical-align: middle;\n",
       "    }\n",
       "\n",
       "    .dataframe tbody tr th {\n",
       "        vertical-align: top;\n",
       "    }\n",
       "\n",
       "    .dataframe thead th {\n",
       "        text-align: right;\n",
       "    }\n",
       "</style>\n",
       "<table border=\"1\" class=\"dataframe\">\n",
       "  <thead>\n",
       "    <tr style=\"text-align: right;\">\n",
       "      <th></th>\n",
       "      <th>gender</th>\n",
       "      <th>race/ethnicity</th>\n",
       "      <th>parental level of education</th>\n",
       "      <th>lunch</th>\n",
       "      <th>test preparation course</th>\n",
       "      <th>math score</th>\n",
       "      <th>reading score</th>\n",
       "      <th>writing score</th>\n",
       "      <th>address</th>\n",
       "      <th>Age</th>\n",
       "    </tr>\n",
       "  </thead>\n",
       "  <tbody>\n",
       "    <tr>\n",
       "      <th>0</th>\n",
       "      <td>Male</td>\n",
       "      <td>group A</td>\n",
       "      <td>high school</td>\n",
       "      <td>standard</td>\n",
       "      <td>completed</td>\n",
       "      <td>67</td>\n",
       "      <td>67</td>\n",
       "      <td>63</td>\n",
       "      <td>NaN</td>\n",
       "      <td>14.0</td>\n",
       "    </tr>\n",
       "    <tr>\n",
       "      <th>1</th>\n",
       "      <td>Female</td>\n",
       "      <td>group D</td>\n",
       "      <td>some high school</td>\n",
       "      <td>free/reduced</td>\n",
       "      <td>none</td>\n",
       "      <td>40</td>\n",
       "      <td>29</td>\n",
       "      <td>55</td>\n",
       "      <td>NaN</td>\n",
       "      <td>17.0</td>\n",
       "    </tr>\n",
       "    <tr>\n",
       "      <th>2</th>\n",
       "      <td>Male</td>\n",
       "      <td>group E</td>\n",
       "      <td>some college</td>\n",
       "      <td>free/reduced</td>\n",
       "      <td>none</td>\n",
       "      <td>59</td>\n",
       "      <td>60</td>\n",
       "      <td>50</td>\n",
       "      <td>NaN</td>\n",
       "      <td>14.0</td>\n",
       "    </tr>\n",
       "    <tr>\n",
       "      <th>3</th>\n",
       "      <td>Male</td>\n",
       "      <td>group B</td>\n",
       "      <td>high school</td>\n",
       "      <td>standard</td>\n",
       "      <td>none</td>\n",
       "      <td>77</td>\n",
       "      <td>78</td>\n",
       "      <td>68</td>\n",
       "      <td>NaN</td>\n",
       "      <td>17.0</td>\n",
       "    </tr>\n",
       "    <tr>\n",
       "      <th>4</th>\n",
       "      <td>Male</td>\n",
       "      <td>group E</td>\n",
       "      <td>associate's degree</td>\n",
       "      <td>standard</td>\n",
       "      <td>completed</td>\n",
       "      <td>78</td>\n",
       "      <td>73</td>\n",
       "      <td>68</td>\n",
       "      <td>NaN</td>\n",
       "      <td>16.0</td>\n",
       "    </tr>\n",
       "  </tbody>\n",
       "</table>\n",
       "</div>"
      ],
      "text/plain": [
       "   gender race/ethnicity parental level of education         lunch  \\\n",
       "0    Male        group A                 high school      standard   \n",
       "1  Female        group D            some high school  free/reduced   \n",
       "2    Male        group E                some college  free/reduced   \n",
       "3    Male        group B                 high school      standard   \n",
       "4    Male        group E          associate's degree      standard   \n",
       "\n",
       "  test preparation course  math score  reading score  writing score  address  \\\n",
       "0               completed          67             67             63      NaN   \n",
       "1                    none          40             29             55      NaN   \n",
       "2                    none          59             60             50      NaN   \n",
       "3                    none          77             78             68      NaN   \n",
       "4               completed          78             73             68      NaN   \n",
       "\n",
       "    Age  \n",
       "0  14.0  \n",
       "1  17.0  \n",
       "2  14.0  \n",
       "3  17.0  \n",
       "4  16.0  "
      ]
     },
     "execution_count": 28,
     "metadata": {},
     "output_type": "execute_result"
    }
   ],
   "source": [
    "# Eliminar las columnas \"id_student\" y \"Year\"\n",
    "df_cleaned = df.drop(columns=[\"id_student\", \"Year\"], errors=\"ignore\")\n",
    "\n",
    "# Verificar las columnas restantes\n",
    "df_cleaned.head()"
   ]
  },
  {
   "cell_type": "markdown",
   "id": "563c1ee8",
   "metadata": {},
   "source": [
    "#### What do we care about? The grades are the main problem. Maybe they vary based on any of the other variables"
   ]
  },
  {
   "cell_type": "markdown",
   "id": "38d4029e",
   "metadata": {},
   "source": [
    "I think we can detect the biggest discrepancies at 3-4 levels: \n",
    "\n",
    "- Parental level of education \n",
    "\n",
    "- Test preparation course \n",
    "\n",
    "- Mybe lunch or gender (I am pretty sure the lunch should not have that much impact but let's still check it)\n",
    "\n",
    "Let's go deeper\n",
    "\n",
    " \n",
    "\n"
   ]
  },
  {
   "cell_type": "markdown",
   "id": "061b59fc",
   "metadata": {},
   "source": [
    "### 2-variable Analysis with Lunch column "
   ]
  },
  {
   "cell_type": "code",
   "execution_count": 62,
   "id": "b8eee67c",
   "metadata": {},
   "outputs": [
    {
     "data": {
      "image/png": "[encoded data removed]",
      "text/plain": [
       "<Figure size 600x500 with 1 Axes>"
      ]
     },
     "metadata": {},
     "output_type": "display_data"
    }
   ],
   "source": [
    "df_cleaned[\"average score\"] = df_cleaned[[\"math score\", \"reading score\", \"writing score\"]].mean(axis=1)\n",
    "lunch_avg = df_cleaned.groupby(\"lunch\")[\"average score\"].mean()\n",
    "\n",
    "# Crear el gráfico de barras\n",
    "plt.figure(figsize=(6, 5))\n",
    "sns.barplot(x=lunch_avg.index, y=lunch_avg.values, palette=[\"gold\", \"steelblue\"])\n",
    "\n",
    "# Agregar etiquetas y título\n",
    "plt.xlabel(\"Lunch\")\n",
    "plt.ylabel(\"Average Score\")\n",
    "plt.title(\"Impact of Lunch on Academic Performance\")\n",
    "plt.ylim(0, 100)  # Ajustar el rango del eje Y\n",
    "plt.grid(axis=\"y\", linestyle=\"--\", alpha=0.7)\n",
    "\n",
    "# Mostrar valores en las barras\n",
    "for index, value in enumerate(lunch_avg.values):\n",
    "    plt.text(index, value + 1, f\"{value:.2f}\", ha=\"center\", fontsize=12, fontweight=\"bold\")\n",
    "\n",
    "# Mostrar gráfico\n",
    "plt.show()"
   ]
  },
  {
   "cell_type": "code",
   "execution_count": null,
   "id": "78db9f6b",
   "metadata": {},
   "outputs": [],
   "source": [
    "# hay una diferencia de 11 puntos a favor de los estudiantes que pagan la tarifa standard para la comida."
   ]
  },
  {
   "cell_type": "markdown",
   "id": "acde03e3",
   "metadata": {},
   "source": [
    "### 2-variable Analysis with gender column "
   ]
  },
  {
   "cell_type": "code",
   "execution_count": 47,
   "id": "c3f168d6",
   "metadata": {},
   "outputs": [
    {
     "data": {
      "text/plain": [
       "array(['Male', 'Female'], dtype=object)"
      ]
     },
     "execution_count": 47,
     "metadata": {},
     "output_type": "execute_result"
    }
   ],
   "source": [
    "# Primero unificamos los valores para que solo aparezca Male y Female\n",
    "# Normalizar los valores de la columna \"gender\" para que solo haya \"Female\" y \"Male\"\n",
    "df_cleaned[\"gender\"] = df_cleaned[\"gender\"].str.capitalize()\n",
    "\n",
    "# Verificar los valores únicos después del cambio\n",
    "df_cleaned[\"gender\"].unique() "
   ]
  },
  {
   "cell_type": "code",
   "execution_count": null,
   "id": "318fe117",
   "metadata": {},
   "outputs": [
    {
     "data": {
      "text/plain": [
       "<Figure size 800x500 with 0 Axes>"
      ]
     },
     "metadata": {},
     "output_type": "display_data"
    },
    {
     "data": {
      "image/png": "[encoded data removed]",
      "text/plain": [
       "<Figure size 640x480 with 1 Axes>"
      ]
     },
     "metadata": {},
     "output_type": "display_data"
    }
   ],
   "source": [
    "# A continuación creamos un gráfico separando las medias por asignatura y por sexo\n",
    "gender_avg = df_cleaned.groupby(\"gender\")[[\"math score\", \"reading score\", \"writing score\"]].mean()\n",
    "plt.figure(figsize=(8, 5))\n",
    "gender_avg.T.plot(kind=\"bar\", colormap=\"viridis\", edgecolor=\"black\", alpha=0.8, width=0.8)\n",
    "\n",
    "# Configurar etiquetas y título\n",
    "plt.xlabel(\"Asignatura\")\n",
    "plt.ylabel(\"Puntuación Media\")\n",
    "plt.title(\"Comparación de Puntuaciones por Género (Barras Agrupadas)\")\n",
    "plt.ylim(0, 100)  # Ajustar el rango del eje Y\n",
    "plt.xticks(rotation=0)\n",
    "plt.grid(axis=\"y\", linestyle=\"--\", alpha=0.7)\n",
    "plt.legend(title=\"Género\")\n",
    "\n",
    "# Mostrar gráfico\n",
    "plt.show()"
   ]
  },
  {
   "cell_type": "markdown",
   "id": "b89a9a96",
   "metadata": {},
   "source": [
    "### 2-variable Analysis with Test preparation course column "
   ]
  },
  {
   "cell_type": "code",
   "execution_count": 45,
   "id": "d3f9be48",
   "metadata": {},
   "outputs": [
    {
     "data": {
      "image/png": "[encoded data removed]",
      "text/plain": [
       "<Figure size 600x500 with 1 Axes>"
      ]
     },
     "metadata": {},
     "output_type": "display_data"
    }
   ],
   "source": [
    "import seaborn as sns\n",
    "\n",
    "# Calcular la media de lectura según la participación en el curso preparatorio\n",
    "reading_prep = df_cleaned.groupby(\"test preparation course\")[\"reading score\"].mean()\n",
    "\n",
    "# Crear el gráfico de barras\n",
    "plt.figure(figsize=(6, 5))\n",
    "sns.barplot(x=reading_prep.index, y=reading_prep.values, palette=[\"lightcoral\", \"royalblue\"])\n",
    "\n",
    "# Agregar etiquetas y título\n",
    "plt.xlabel(\"Curso Preparación\")\n",
    "plt.ylabel(\"Puntuación Media en Lectura\")\n",
    "plt.title(\"Impacto del Curso Preparación en la Lectura\")\n",
    "plt.ylim(0, 100)  # Ajustar el rango del eje Y\n",
    "plt.grid(axis=\"y\", linestyle=\"--\", alpha=0.7)\n",
    "\n",
    "# Mostrar valores en las barras\n",
    "for index, value in enumerate(reading_prep.values):\n",
    "    plt.text(index, value + 1, f\"{value:.2f}\", ha=\"center\", fontsize=12, fontweight=\"bold\")\n",
    "\n",
    "# Mostrar gráfico"
   ]
  },
  {
   "cell_type": "code",
   "execution_count": null,
   "id": "d2239ab5",
   "metadata": {},
   "outputs": [],
   "source": [
    "# Los estudiantes que terminaron el curso de lectura, tienen de media unos 14 puntos más."
   ]
  },
  {
   "cell_type": "markdown",
   "id": "c35bcd84",
   "metadata": {},
   "source": [
    "### What is next?\n",
    "\n",
    "- Get the story together\n",
    "- Improve your code\n",
    "- Get some statistics of the differences you want to show \n",
    "- Work on the plots to show the data nicely \n",
    "- Get the presentation ready \n",
    "- Show what you found to the client"
   ]
  },
  {
   "cell_type": "code",
   "execution_count": null,
   "id": "7f46b319",
   "metadata": {},
   "outputs": [],
   "source": [
    "# Como counclusión, tenemos que los resultados en lectura son los más bajos de los tres analizados, con una media de 64.93 puntos. Para subirlos, se podría incitar más a la lectura o ayudar a la comprensión lectora.\n",
    "# Vemos que la diferencia entre los alumnos que finalizan el curso de preparión es casi 14 puntos superior a los que no lo finalizan. Se debería insistir en la realización de este curso a todo el alumnado.\n",
    "# Los alumnos que tienen la comida subvencionada tienen unos resultados de aproximadamente 11 puntos por debajo del resto. Habría que indagar más: son familias con pocos recursos económicos, quienes están subvencionadas? La calidad de la comida, es la misma? comen todos juntos, subvencionados y no subvencionados?\n",
    "# Los chicos tienen mejores notas en matemáticas, mientras que las chicas les superan en lectura y escritura. Se podría estudiar dedicar algunas jornadas a asignaturas STEM para chicas o introducir libros con temáticas más tendencialmente masculinas (por ejemplo, deportes) para que empiecen con el hábito de la lectura."
   ]
  }
 ],
 "metadata": {
  "kernelspec": {
   "display_name": "base",
   "language": "python",
   "name": "python3"
  },
  "language_info": {
   "codemirror_mode": {
    "name": "ipython",
    "version": 3
   },
   "file_extension": ".py",
   "mimetype": "text/x-python",
   "name": "python",
   "nbconvert_exporter": "python",
   "pygments_lexer": "ipython3",
   "version": "3.11.7"
  }
 },
 "nbformat": 4,
 "nbformat_minor": 5
}
